{
 "nbformat": 4,
 "nbformat_minor": 0,
 "metadata": {
  "colab": {
   "name": "Tugas pekan 4 PKS digital.ipynb",
   "provenance": [],
   "collapsed_sections": []
  },
  "kernelspec": {
   "name": "python3",
   "display_name": "Python 3"
  },
  "language_info": {
   "name": "python"
  }
 },
 "cells": [
  {
   "cell_type": "markdown",
   "metadata": {
    "id": "88N7J1l0-xa0"
   },
   "source": [
    "Tugas ini berupa Tugas Akhir yang diselesaikan pada Akhir Pekan 8. Tugas disusun sesuai dengan materi yang diberikan tiap harinya dari pekan 1-8."
   ]
  },
  {
   "cell_type": "markdown",
   "metadata": {
    "id": "IRNtERY8FNe1"
   },
   "source": [
    "# Dataset\n",
    "\n",
    "silahkan unduh dataset berikut untuk mengerjakan Tugas Akhir:\n",
    "\n",
    "[pelanggan_supermarket.csv](https://drive.google.com/uc?export=download&id=1jaxCbZ4fcCneeVCEN-yuxWE0RyX25tbQ)"
   ]
  },
  {
   "cell_type": "markdown",
   "metadata": {
    "id": "Dk_lP4YPF6_i"
   },
   "source": [
    "\n",
    "\n",
    "---\n",
    "\n",
    "\n",
    "\n",
    "---\n",
    "\n",
    "\n",
    "\n",
    "---\n",
    "\n"
   ]
  },
  {
   "cell_type": "code",
   "metadata": {
    "id": "lhN_Ue2qF8nN"
   },
   "source": [
    "import pandas as pd\n",
    "import numpy as np\n",
    "import matplotlib.pyplot as plt\n",
    "import seaborn as sns\n",
    "import warnings\n",
    "warnings.filterwarnings('ignore')"
   ],
   "execution_count": 1,
   "outputs": []
  },
  {
   "cell_type": "code",
   "metadata": {
    "colab": {
     "base_uri": "https://localhost:8080/",
     "height": 424
    },
    "id": "M1tQcd_ILZXq",
    "outputId": "2aea46a6-3889-4d13-8841-be18f708cac4"
   },
   "source": [
    "import pandas as pd\n",
    "\n",
    "df = pd.read_csv('pelanggan_supermarket.csv')\n",
    "df"
   ],
   "execution_count": 2,
   "outputs": [
    {
     "output_type": "execute_result",
     "data": {
      "text/html": [
       "<div>\n",
       "<style scoped>\n",
       "    .dataframe tbody tr th:only-of-type {\n",
       "        vertical-align: middle;\n",
       "    }\n",
       "\n",
       "    .dataframe tbody tr th {\n",
       "        vertical-align: top;\n",
       "    }\n",
       "\n",
       "    .dataframe thead th {\n",
       "        text-align: right;\n",
       "    }\n",
       "</style>\n",
       "<table border=\"1\" class=\"dataframe\">\n",
       "  <thead>\n",
       "    <tr style=\"text-align: right;\">\n",
       "      <th></th>\n",
       "      <th>ID_pelanggan</th>\n",
       "      <th>Jenis Kelamin</th>\n",
       "      <th>Umur</th>\n",
       "      <th>Pendapatan pertahun (juta)</th>\n",
       "      <th>Skor Belanja (1-100)</th>\n",
       "    </tr>\n",
       "  </thead>\n",
       "  <tbody>\n",
       "    <tr>\n",
       "      <th>0</th>\n",
       "      <td>1</td>\n",
       "      <td>Laki-laki</td>\n",
       "      <td>19.0</td>\n",
       "      <td>15</td>\n",
       "      <td>39.0</td>\n",
       "    </tr>\n",
       "    <tr>\n",
       "      <th>1</th>\n",
       "      <td>2</td>\n",
       "      <td>Laki-laki</td>\n",
       "      <td>21.0</td>\n",
       "      <td>15</td>\n",
       "      <td>81.0</td>\n",
       "    </tr>\n",
       "    <tr>\n",
       "      <th>2</th>\n",
       "      <td>3</td>\n",
       "      <td>Perempuan</td>\n",
       "      <td>20.0</td>\n",
       "      <td>16</td>\n",
       "      <td>6.0</td>\n",
       "    </tr>\n",
       "    <tr>\n",
       "      <th>3</th>\n",
       "      <td>4</td>\n",
       "      <td>Perempuan</td>\n",
       "      <td>23.0</td>\n",
       "      <td>16</td>\n",
       "      <td>77.0</td>\n",
       "    </tr>\n",
       "    <tr>\n",
       "      <th>4</th>\n",
       "      <td>5</td>\n",
       "      <td>Perempuan</td>\n",
       "      <td>31.0</td>\n",
       "      <td>17</td>\n",
       "      <td>40.0</td>\n",
       "    </tr>\n",
       "    <tr>\n",
       "      <th>...</th>\n",
       "      <td>...</td>\n",
       "      <td>...</td>\n",
       "      <td>...</td>\n",
       "      <td>...</td>\n",
       "      <td>...</td>\n",
       "    </tr>\n",
       "    <tr>\n",
       "      <th>245</th>\n",
       "      <td>246</td>\n",
       "      <td>Laki-laki</td>\n",
       "      <td>59.0</td>\n",
       "      <td>93</td>\n",
       "      <td>14.0</td>\n",
       "    </tr>\n",
       "    <tr>\n",
       "      <th>246</th>\n",
       "      <td>247</td>\n",
       "      <td>Laki-laki</td>\n",
       "      <td>35.0</td>\n",
       "      <td>93</td>\n",
       "      <td>90.0</td>\n",
       "    </tr>\n",
       "    <tr>\n",
       "      <th>247</th>\n",
       "      <td>248</td>\n",
       "      <td>Perempuan</td>\n",
       "      <td>37.0</td>\n",
       "      <td>97</td>\n",
       "      <td>32.0</td>\n",
       "    </tr>\n",
       "    <tr>\n",
       "      <th>248</th>\n",
       "      <td>249</td>\n",
       "      <td>Perempuan</td>\n",
       "      <td>32.0</td>\n",
       "      <td>97</td>\n",
       "      <td>86.0</td>\n",
       "    </tr>\n",
       "    <tr>\n",
       "      <th>249</th>\n",
       "      <td>250</td>\n",
       "      <td>Laki-laki</td>\n",
       "      <td>120.0</td>\n",
       "      <td>98</td>\n",
       "      <td>15.0</td>\n",
       "    </tr>\n",
       "  </tbody>\n",
       "</table>\n",
       "<p>250 rows × 5 columns</p>\n",
       "</div>"
      ],
      "text/plain": [
       "     ID_pelanggan  ... Skor Belanja (1-100)\n",
       "0               1  ...                 39.0\n",
       "1               2  ...                 81.0\n",
       "2               3  ...                  6.0\n",
       "3               4  ...                 77.0\n",
       "4               5  ...                 40.0\n",
       "..            ...  ...                  ...\n",
       "245           246  ...                 14.0\n",
       "246           247  ...                 90.0\n",
       "247           248  ...                 32.0\n",
       "248           249  ...                 86.0\n",
       "249           250  ...                 15.0\n",
       "\n",
       "[250 rows x 5 columns]"
      ]
     },
     "metadata": {},
     "execution_count": 2
    }
   ]
  },
  {
   "cell_type": "markdown",
   "metadata": {
    "id": "aklja_xv_MS9"
   },
   "source": [
    "\n",
    "\n",
    "---\n",
    "\n",
    "\n",
    "\n",
    "---\n",
    "\n",
    "\n",
    "\n",
    "---\n",
    "\n"
   ]
  },
  {
   "cell_type": "markdown",
   "metadata": {
    "id": "zGrxp0w2GFOs"
   },
   "source": [
    "# Soal 1. Statistika Deskriptif\n",
    "\n",
    "lakukan eksplorasi data dengan menggunakan statistika deskriptif. Gunakan pandas untuk mendapatkan summary statistics, dan analisa hasil yang ditampilkan."
   ]
  },
  {
   "cell_type": "code",
   "metadata": {
    "id": "DpV8-yksGpIt"
   },
   "source": [
    "#code here"
   ],
   "execution_count": 51,
   "outputs": []
  },
  {
   "cell_type": "markdown",
   "metadata": {
    "id": "ENATFBsjU6Me"
   },
   "source": [
    "**Expected output**\n",
    "\n",
    "![](https://drive.google.com/uc?id=1-5_d0Ey1lWMXj0d8ABimuPqqTz-h-8mx)"
   ]
  },
  {
   "cell_type": "markdown",
   "metadata": {
    "id": "V1_Jl-7-Zydi"
   },
   "source": [
    "Give your analysis:"
   ]
  },
  {
   "cell_type": "markdown",
   "metadata": {
    "id": "po0Ba28dZ3h2"
   },
   "source": []
  },
  {
   "cell_type": "markdown",
   "metadata": {
    "id": "keRLYMjXHGup"
   },
   "source": [
    "\n",
    "\n",
    "---\n",
    "\n",
    "\n",
    "\n",
    "---\n",
    "\n",
    "\n",
    "\n",
    "---\n",
    "\n"
   ]
  },
  {
   "cell_type": "markdown",
   "metadata": {
    "id": "gqqEXm2yynSB"
   },
   "source": [
    "# Soal 2. Handling missing value\n",
    "\n",
    "Jika dilihat dari summary statistik terlihat dataset memiliki nilai missing. Hitunglah jumlah missing value menggunakan methode .isnull(). \n",
    "\n",
    "Isi nilai nan dengan nilai sebelumnya di row tersebut. gunakan method .fillna() dengan argument method bernilai 'ffill', baca dokumentasi https://pandas.pydata.org/pandas-docs/stable/reference/api/pandas.DataFrame.fillna.html"
   ]
  },
  {
   "cell_type": "code",
   "metadata": {
    "id": "0-czR7PmYyfb"
   },
   "source": [
    "#code here"
   ],
   "execution_count": null,
   "outputs": []
  },
  {
   "cell_type": "markdown",
   "metadata": {
    "id": "sy1o6Lhs_QJy"
   },
   "source": [
    "\n",
    "\n",
    "---\n",
    "\n",
    "\n",
    "\n",
    "---\n",
    "\n",
    "\n",
    "\n",
    "---\n",
    "\n"
   ]
  },
  {
   "cell_type": "markdown",
   "metadata": {
    "id": "0ch4lp680ZNj"
   },
   "source": [
    "# Soal 3. Handling outlier\n",
    "\n",
    "1. Apakah data set memiliki nilai pencilan untuk setiap kolom? periksalah dengan melakukan visualisasi menggunakan boxplot.\n",
    "2. Handling outlier tersebut dengan menggunakan teknik trimming / removing outliers (menggunakan teknik IQR)\n",
    "3. simpan data hasil handling outlier ke dalam variabel df2\n",
    "4. Teknik ini akan menghasilkan nilai missing pada nilai outlier yang telah dihapus, maka hapuslah data missing tersebut dengan menggunakan method .dropna()"
   ]
  },
  {
   "cell_type": "code",
   "metadata": {
    "id": "S-35U36ZY2r3"
   },
   "source": [
    "#code here"
   ],
   "execution_count": null,
   "outputs": []
  },
  {
   "cell_type": "markdown",
   "metadata": {
    "id": "71J4kYuHVkbn"
   },
   "source": [
    "**Expected output**\n",
    "\n",
    "Melihat adanya pencilan menggunakan Boxplot\n",
    "\n",
    "![](https://drive.google.com/uc?id=1ettD4G8xBMCYcMUVt88kn5k_yCufgdyf)"
   ]
  },
  {
   "cell_type": "markdown",
   "metadata": {
    "id": "mpSdl95j_TVj"
   },
   "source": [
    "\n",
    "\n",
    "---\n",
    "\n",
    "\n",
    "\n",
    "---\n",
    "\n",
    "\n",
    "\n",
    "---\n",
    "\n"
   ]
  },
  {
   "cell_type": "markdown",
   "metadata": {
    "id": "YKODTt1z7XTq"
   },
   "source": [
    "# Soal 4. statistika Inferential\n",
    "\n",
    "\n",
    "\n",
    "*   Kita akan melakukan hipotesis terhadap 100 sample pengunjung Supermarket. Hipotesis awal adalah rata2 usia pengunjung supermarket di atas 35 tahun. Ujilah hipotesis tersebut dengan menggunakan teknik klasik (z-testing) dan probabilitas p-value)!\n",
    "*   Gunakan variabel dataframe hasil handling missing value dan outlier di no soal sebelumnya\n",
    "*   Untuk mempermudah perhitungan, ubahlah tipe data kolom Umur menjadi int dengan menggunakan methode .astype() baca dokumentasi https://pandas.pydata.org/pandas-docs/stable/reference/api/pandas.DataFrame.astype.html\n",
    "\n",
    "\n",
    "\n"
   ]
  },
  {
   "cell_type": "code",
   "metadata": {
    "id": "vbbAAoRbZMz3"
   },
   "source": [
    "df_100 = df2.sample(100,  random_state=1)"
   ],
   "execution_count": null,
   "outputs": []
  },
  {
   "cell_type": "code",
   "metadata": {
    "id": "qvUBIRmLZT1o"
   },
   "source": [
    "#code here for z-test"
   ],
   "execution_count": null,
   "outputs": []
  },
  {
   "cell_type": "code",
   "metadata": {
    "id": "DrlCfbiLZaEg"
   },
   "source": [
    "#code here for p-value"
   ],
   "execution_count": null,
   "outputs": []
  },
  {
   "cell_type": "markdown",
   "metadata": {
    "id": "oj7BlvbfZ50q"
   },
   "source": [
    "Give your analysis:"
   ]
  },
  {
   "cell_type": "markdown",
   "metadata": {
    "id": "ZE9OBuKxZ8Ei"
   },
   "source": []
  },
  {
   "cell_type": "markdown",
   "metadata": {
    "id": "272__Q0-_H_E"
   },
   "source": [
    "\n",
    "\n",
    "---\n",
    "\n",
    "\n",
    "\n",
    "---\n",
    "\n",
    "\n",
    "\n",
    "---\n",
    "\n"
   ]
  },
  {
   "cell_type": "markdown",
   "metadata": {
    "id": "q4TB5nadDdp1"
   },
   "source": [
    "## Soal 5. EDA"
   ]
  },
  {
   "cell_type": "markdown",
   "metadata": {
    "id": "GQCd-O8ApvTE"
   },
   "source": [
    "Lakukan eksplorasi data analisis. Gunakan visualisasi distplot untuk melihat sebaran data dan histogram pada setiap kolom dataset awal sebelum dilakukan handling missing value maupun outlier"
   ]
  },
  {
   "cell_type": "code",
   "metadata": {
    "id": "hd05FkWjZlKg"
   },
   "source": [
    "#code here for univariate"
   ],
   "execution_count": null,
   "outputs": []
  },
  {
   "cell_type": "markdown",
   "metadata": {
    "id": "DGb_OjUXZ97i"
   },
   "source": [
    "Give your analysis:"
   ]
  },
  {
   "cell_type": "markdown",
   "metadata": {
    "id": "KCA7HSYtZ_7f"
   },
   "source": []
  },
  {
   "cell_type": "code",
   "metadata": {
    "id": "5YOUs98yZnmE"
   },
   "source": [
    "#code here for bivariate"
   ],
   "execution_count": null,
   "outputs": []
  },
  {
   "cell_type": "markdown",
   "metadata": {
    "id": "LuRzizmQaA7c"
   },
   "source": [
    "Give your analysis:"
   ]
  },
  {
   "cell_type": "markdown",
   "metadata": {
    "id": "o74RZcJdaDZA"
   },
   "source": []
  },
  {
   "cell_type": "code",
   "metadata": {
    "id": "7J3b554fZqoy"
   },
   "source": [
    "#code here for multivariate"
   ],
   "execution_count": null,
   "outputs": []
  },
  {
   "cell_type": "markdown",
   "metadata": {
    "id": "8S-A9RV5aEmB"
   },
   "source": [
    "Give your analysis:"
   ]
  },
  {
   "cell_type": "markdown",
   "metadata": {
    "id": "vrT3v9ZYaGXb"
   },
   "source": []
  },
  {
   "cell_type": "markdown",
   "metadata": {
    "id": "rvomcnVzWD90"
   },
   "source": [
    "**Expected output**\n",
    "\n",
    "Univariate plot\n",
    "\n",
    "![](https://drive.google.com/uc?id=12BSOah7WFzuOEJsKfsaNDw799zzqbDIs)\n",
    "\n",
    "Bivariate plot\n",
    "\n",
    "![](https://drive.google.com/file/d/1aNLD2M9a-d63sVkCqN7n475LQ8NqSsi1/)\n",
    "\n",
    "Multivariate plot\n",
    "\n",
    "![](https://drive.google.com/uc?id=1TTXm3BjoqqwSGMGE1en9ZIJT53Wm5SFf)"
   ]
  },
  {
   "cell_type": "markdown",
   "metadata": {
    "id": "z2nJhKqNpryR"
   },
   "source": [
    "\n",
    "\n",
    "---\n",
    "\n",
    "---\n",
    "\n",
    "\n",
    "\n",
    "---\n",
    "\n",
    "\n",
    "\n"
   ]
  },
  {
   "cell_type": "markdown",
   "metadata": {
    "id": "AF0090RVqbyh"
   },
   "source": [
    "# Soal 6. Data scaling\n",
    "lakukan scaling data dengan menggunakan standarisasi untuk kolom Umur dan skor belanja saja tetapi menggunakan variabel dataframe setelah handling missing value dan outlier"
   ]
  },
  {
   "cell_type": "code",
   "metadata": {
    "id": "NcQ-UGu1aKmg"
   },
   "source": [
    "#code here"
   ],
   "execution_count": null,
   "outputs": []
  },
  {
   "cell_type": "markdown",
   "metadata": {
    "id": "6_4IxEFEqwNp"
   },
   "source": [
    "\n",
    "\n",
    "---\n",
    "\n",
    "\n",
    "\n",
    "---\n",
    "\n",
    "\n",
    "\n",
    "---\n",
    "\n"
   ]
  },
  {
   "cell_type": "markdown",
   "metadata": {
    "id": "gPDw48Mmqx7n"
   },
   "source": [
    "# Soal 7. Clustering menggunakan k-menas\n",
    "\n",
    "*   Lakukan clustering menggunakan kmeans clustering dengan k =2, dan visualisasikan\n",
    "*   Gunakan Elbow method untuk menemukan jumlah k kluster yang tepat\n",
    "*   Gunakan k=3 (rekomendasi methode Elbow) lalu visualisasikan\n",
    "*   Hitung silhoutte Coefficient dari ke dua hasil prediksi klustering tersebut"
   ]
  },
  {
   "cell_type": "code",
   "metadata": {
    "id": "MVrICKF8IERW"
   },
   "source": [
    "#code here "
   ],
   "execution_count": 52,
   "outputs": []
  },
  {
   "cell_type": "code",
   "metadata": {
    "id": "7Ah0fMJSLlC6"
   },
   "source": [
    "#code here"
   ],
   "execution_count": 53,
   "outputs": []
  },
  {
   "cell_type": "code",
   "metadata": {
    "id": "QPOmJZyuaY_X"
   },
   "source": [
    "#code here"
   ],
   "execution_count": 54,
   "outputs": []
  },
  {
   "cell_type": "markdown",
   "metadata": {
    "id": "ffhO8oUcXYy4"
   },
   "source": [
    "**Expected output**\n",
    "\n",
    "cluster 2\n",
    "\n",
    "![](https://drive.google.com/uc?id=1L7nIskGXbeXGhKOzhMWCykJ4jY5538mn)\n",
    "\n",
    "elbow method\n",
    "\n",
    "![](https://drive.google.com/uc?id=1a3OL9FhiQ2-DyJQ8sg8PNzfS9QsszyvU)\n",
    "\n",
    "cluster 3\n",
    "\n",
    "![](https://drive.google.com/uc?id=1UR6vK36oLJinLPtechjJJBtxifmdFOSn)\n"
   ]
  },
  {
   "cell_type": "code",
   "metadata": {
    "id": "tDBLnR3fI2RL"
   },
   "source": [
    "#silhoutte score\n"
   ],
   "execution_count": 55,
   "outputs": []
  },
  {
   "cell_type": "markdown",
   "metadata": {
    "id": "oGcs5qxga1dX"
   },
   "source": [
    "\n",
    "\n",
    "---\n",
    "\n",
    "\n",
    "\n",
    "---\n",
    "\n",
    "\n",
    "\n",
    "---\n",
    "\n"
   ]
  },
  {
   "cell_type": "markdown",
   "metadata": {
    "id": "b8JnapLFa3Da"
   },
   "source": [
    "# Soal 8. Analyze clustering result"
   ]
  },
  {
   "cell_type": "markdown",
   "metadata": {
    "id": "HmBZU5_qa-JE"
   },
   "source": [
    "Dari hasil klustering diatas, buatlah sebuah analisa segmentasi pelanggan untuk targetted market supermarket"
   ]
  },
  {
   "cell_type": "markdown",
   "metadata": {
    "id": "MLEmUen3bGLS"
   },
   "source": []
  }
 ]
}
