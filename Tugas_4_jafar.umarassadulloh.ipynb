{
 "cells": [
  {
   "cell_type": "markdown",
   "metadata": {
    "id": "a9HYUdCUsrKl"
   },
   "source": [
    "<h2>Soal 1: Comparison Operator</h2>\n",
    "\n",
    "- Berikan contoh comparison dari tipe data string\n",
    "- Berikan contoh comparison dari tipe data boolean\n",
    "- Berikan contoh comparison dari tipe data integer"
   ]
  },
  {
   "cell_type": "code",
   "execution_count": 18,
   "metadata": {
    "id": "fUFkFOt0afUL",
    "ExecuteTime": {
     "start_time": "2023-05-08T13:20:17.063234Z",
     "end_time": "2023-05-08T13:20:17.072234Z"
    }
   },
   "outputs": [
    {
     "name": "stdout",
     "output_type": "stream",
     "text": [
      "True\n"
     ]
    }
   ],
   "source": [
    "comparationStr1 = (\"Nangka\" == \"Semangka\")\n",
    "comparationStr2 = (\"Nangka\" != \"Semangka\")\n",
    "comparationBoolean1 = (True == True)\n",
    "comparationBoolean2 = (False == False)\n",
    "comparationBoolean3 = (True == False)\n",
    "comparationBoolean4 = (True != True)\n",
    "comparationBoolean5 = (False != False)\n",
    "comparationBoolean6 = (True != False)\n",
    "comparationInreger1 = (10 == 10)\n",
    "comparationInreger2 = (10.0 == 10)\n",
    "comparationInreger3 = (10 == 11)\n",
    "comparationInreger4 = (10 != 10)\n",
    "comparationInreger5 = (10.0 != 10)\n",
    "comparationInreger6 = (10 != 11)\n",
    "print(comparationInreger6)"
   ]
  },
  {
   "cell_type": "markdown",
   "metadata": {
    "id": "IbNoZvVssrK5"
   },
   "source": [
    "<h2>Soal 2: Boolean Comparison</h2>\n",
    "\n",
    "- Berikan contoh gabungan multiple comparison menggunkan Boolean Comparisin 'and'\n",
    "- Berikan contoh gabungan multiple comparison menggunkan Boolean Comparisin 'or'\n",
    "- Berikan contoh gabungan multiple comparison menggunkan Boolean Comparisin 'not'"
   ]
  },
  {
   "cell_type": "code",
   "execution_count": 29,
   "metadata": {
    "id": "M1mwGoegaiET",
    "ExecuteTime": {
     "start_time": "2023-05-08T13:29:10.988515Z",
     "end_time": "2023-05-08T13:29:11.005218Z"
    }
   },
   "outputs": [
    {
     "name": "stdout",
     "output_type": "stream",
     "text": [
      "True\n"
     ]
    }
   ],
   "source": [
    "booleanAndConmparation1 = True == True and True == True\n",
    "booleanAndConmparation2 = True == True and True == False\n",
    "booleanAndConmparation3 = True == True and False == False\n",
    "booleanOrConmparation1 = True == True or True == True\n",
    "booleanOrConmparation2 = True == True or True == False\n",
    "booleanOrConmparation3 = True == True or False == False\n",
    "booleanOrConmparation4 = False == True or True == False\n",
    "booleanNotConmparation1 = not(True == True and False == False)\n",
    "booleanNotConmparation2 = not(False == True or True == False)\n",
    "print(booleanNotConmparation2)"
   ]
  },
  {
   "cell_type": "markdown",
   "metadata": {
    "id": "Y3ejsyvqhciI"
   },
   "source": [
    "\n",
    "\n",
    "---\n",
    "\n",
    "\n",
    "\n",
    "---\n",
    "\n"
   ]
  },
  {
   "cell_type": "markdown",
   "metadata": {
    "id": "Yp_g_sPMsrLH"
   },
   "source": [
    "<h2>Soal 3: If-Else Statement</h2>\n",
    "\n",
    "Lengkapi kode untuk menghasilkan suatu output yang di harapkan\n",
    "\n",
    "- Bualah sebuah if-else statement yang dimana akan mem-print 'High' jika grade adalah 'A' dan price lebih dari 100000, kemudian mem-print 'Medium' jika grade adalah 'A' dan price lebih dari 50000 dan memprint 'low' jika grade adalah 'A' dan price lebih kecil dan sama dengan 50000."
   ]
  },
  {
   "cell_type": "code",
   "execution_count": 34,
   "metadata": {
    "id": "2PPsaN50c9ew",
    "ExecuteTime": {
     "start_time": "2023-05-08T13:35:56.349608Z",
     "end_time": "2023-05-08T13:35:56.362862Z"
    }
   },
   "outputs": [
    {
     "name": "stdout",
     "output_type": "stream",
     "text": [
      "low\n"
     ]
    }
   ],
   "source": [
    "#code here\n",
    "grade = \"A\"\n",
    "price = 6000\n",
    "if(grade == \"A\" and price > 100000):\n",
    "    print(\"High\")\n",
    "if(grade == \"A\" and price > 50000 and price < 100000):\n",
    "    print(\"Medium\")\n",
    "if(grade == \"A\" and price < 50000):\n",
    "    print(\"low\")"
   ]
  },
  {
   "cell_type": "markdown",
   "metadata": {
    "id": "gf0D64xOsrLl"
   },
   "source": [
    "<h2>Soal 4: While Loop dan For Loop</h2>\n",
    "\n",
    "- Apa perbedaan while loop dan for loop?\n",
    "- Berikan contoh sederhana cara menggunakan while loop dan for loop"
   ]
  },
  {
   "cell_type": "markdown",
   "metadata": {
    "id": "cSrE7RbvdXWe"
   },
   "source": [
    "# jawaban perbedaan\n",
    " Perbedaannya adalah for loop biasanya digunakan untuk mengulangi kode yang sudah diketahui banyak perulangannya. Sementara while loop untuk perulangan yang memiliki syarat dan tidak tentu berapa banyak perulangannya. Selain itu terdapat beberapa perbedaan antara while loop dan for loop adalah sebagai berikut:\n",
    "While Loop:\n",
    "1.While loop digunakan ketika kita ingin mengulangi serangkaian pernyataan selama kondisi tertentu terpenuhi.\n",
    "2.While loop akan terus berjalan selama kondisi yang ditentukan masih bernilai True.\n",
    "3.Pada setiap iterasi, kondisi akan dievaluasi. Jika kondisi bernilai True, blok pernyataan dalam while loop akan dijalankan. Jika kondisi bernilai False, program akan keluar dari while loop dan melanjutkan eksekusi kode selanjutnya.\n",
    "For Loop:\n",
    "1.For loop digunakan ketika kita ingin mengulangi serangkaian pernyataan untuk setiap elemen dalam sebuah rangkaian atau iterabel.\n",
    "2.For loop akan berjalan secara otomatis untuk setiap elemen dalam iterabel tersebut.\n",
    "3.Setiap iterasi dalam for loop, variabel pengendali loop akan diisi dengan elemen saat ini dalam iterabel, dan blok pernyataan dalam for loop akan dijalankan.\n"
   ]
  },
  {
   "cell_type": "code",
   "execution_count": 3,
   "metadata": {
    "id": "RSf-gg-rdY35",
    "ExecuteTime": {
     "start_time": "2023-05-08T22:15:49.905325Z",
     "end_time": "2023-05-08T22:15:49.916327Z"
    }
   },
   "outputs": [
    {
     "name": "stdout",
     "output_type": "stream",
     "text": [
      "Nilai count: 0\n",
      "Nilai count: 1\n",
      "Nilai count: 2\n",
      "Nilai count: 3\n",
      "Nilai count: 4\n",
      "Nilai count: 5\n",
      "Nilai count: 6\n",
      "Nilai count: 7\n",
      "Nilai count: 8\n",
      "Nilai count: 9\n",
      "Nilai count: 10\n",
      "Hari ini main: kelereng\n",
      "Hari ini main: gasing\n",
      "Hari ini main: petak umpet\n"
     ]
    }
   ],
   "source": [
    "# jawaban contoh\n",
    "# contoh while loop\n",
    "count = 0\n",
    "while count <= 10:\n",
    "    print(\"Nilai count:\", count)\n",
    "    count += 1\n",
    "###########################\n",
    "# contoh for loop\n",
    "mainmain = [\"kelereng\", \"gasing\", \"petak umpet\"]\n",
    "for mains in mainmain:\n",
    "    print(\"Hari ini main:\", mains)\n"
   ]
  },
  {
   "cell_type": "markdown",
   "metadata": {
    "id": "fZQpBGCgsrLz"
   },
   "source": [
    "<h2>Soal 5: While Loop</h2>\n",
    "    \n",
    "Buatlah sebuah code while loop sebagai berikut :\n",
    "- Buatlah suatu fungsi yang menerima satu input nilai numerik\n",
    "- Dalam fungsi, Buat sebuah while-loop dengan melakukan comparasi terhadap inputan tersebut, dimana looping/iterasi terus berjalan apabila nilai inputan tidak sama dengan 0\n",
    "- Dalam setiap iterasi update nilai variable inputan itu, jika input lebih dari 0, maka kurangi variabel tersebut sebesar 1, selain itu tambahkan 1\n",
    "- print nilai variable input dalam setiap awal iterasi"
   ]
  },
  {
   "cell_type": "code",
   "execution_count": 11,
   "metadata": {
    "id": "uc6N4UmedrU6",
    "ExecuteTime": {
     "start_time": "2023-05-08T22:21:57.381724Z",
     "end_time": "2023-05-08T22:21:57.398922Z"
    }
   },
   "outputs": [
    {
     "name": "stdout",
     "output_type": "stream",
     "text": [
      "-10\n",
      "-9\n",
      "-8\n",
      "-7\n",
      "-6\n",
      "-5\n",
      "-4\n",
      "-3\n",
      "-2\n",
      "-1\n"
     ]
    }
   ],
   "source": [
    "a = -10\n",
    "\n",
    "def fungsi_while(angka):\n",
    "    while angka != 0:\n",
    "        print(angka)\n",
    "\n",
    "        if angka > 0:\n",
    "            angka -= 1\n",
    "        else:\n",
    "            angka += 1\n",
    "\n",
    "\n",
    "\n",
    "fungsi_while(a)"
   ]
  },
  {
   "cell_type": "markdown",
   "metadata": {
    "id": "lKzngRrlsrMD"
   },
   "source": [
    "Expected Output:\n",
    "\n",
    "jika a = 10                           \n",
    "\n",
    "10                                   \n",
    "9                      \n",
    "8   \n",
    "7   \n",
    "6  \n",
    "5  \n",
    "4  \n",
    "3  \n",
    "2  \n",
    "1\n",
    "\n",
    "jika a = -10\n",
    "\n",
    "-10                                   \n",
    "-9                        \n",
    "-8  \n",
    "-7  \n",
    "-6  \n",
    "-5  \n",
    "-4  \n",
    "-3  \n",
    "-2  \n",
    "-1\n"
   ]
  },
  {
   "cell_type": "code",
   "execution_count": null,
   "outputs": [],
   "source": [],
   "metadata": {
    "collapsed": false
   }
  }
 ],
 "metadata": {
  "colab": {
   "collapsed_sections": [],
   "name": " Tugas Hari 4.ipynb",
   "provenance": []
  },
  "kernelspec": {
   "display_name": "Python 3",
   "language": "python",
   "name": "python3"
  },
  "language_info": {
   "codemirror_mode": {
    "name": "ipython",
    "version": 3
   },
   "file_extension": ".py",
   "mimetype": "text/x-python",
   "name": "python",
   "nbconvert_exporter": "python",
   "pygments_lexer": "ipython3",
   "version": "3.7.7"
  }
 },
 "nbformat": 4,
 "nbformat_minor": 0
}
